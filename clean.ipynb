{
 "nbformat": 4,
 "nbformat_minor": 2,
 "metadata": {
  "language_info": {
   "name": "python",
   "codemirror_mode": {
    "name": "ipython",
    "version": 3
   },
   "version": "3.7.4-final"
  },
  "orig_nbformat": 2,
  "file_extension": ".py",
  "mimetype": "text/x-python",
  "name": "python",
  "npconvert_exporter": "python",
  "pygments_lexer": "ipython3",
  "version": 3,
  "kernelspec": {
   "name": "python37464bitvenvvirtualenv149573f2b6934d0baa3008140ffc3099",
   "display_name": "Python 3.7.4 64-bit ('venv': virtualenv)"
  }
 },
 "cells": [
  {
   "cell_type": "markdown",
   "metadata": {},
   "source": [
    "## Import Data"
   ]
  },
  {
   "cell_type": "code",
   "execution_count": 8,
   "metadata": {},
   "outputs": [],
   "source": [
    "import pandas as pd\n",
    "\n",
    "# import moea.csv file from moea.py script\n",
    "moea = pd.read_csv('output/moea.csv')\n",
    "# convert time to datetime \n",
    "moea['time'] = pd.to_datetime(moea['time'], yearfirst = True).dt.date\n",
    "\n",
    "# import epa.csv file from epa.py script\n",
    "epa = pd.read_csv('output/epa.csv')\n",
    "# convert time to datetime \n",
    "epa['time'] = pd.to_datetime(epa['time'], yearfirst = True).dt.date\n",
    "# replace simplied chinese in city name with traditional chinese\n",
    "epa['city'] = epa['city'].str.replace('台', '臺')\n",
    "\n",
    "# import subsidy_amt.csv file from output folder\n",
    "sub = pd.read_csv('output/subsidy_amt.csv')\n",
    "# convert time to datetime \n",
    "sub['time'] = pd.to_datetime(sub['time'], yearfirst = True).dt.date"
   ]
  },
  {
   "cell_type": "markdown",
   "metadata": {},
   "source": [
    "## Organise MOEA\n",
    "EPA and local subsidy policy both had three types of rebatement: purchase of electric scooter (`pur`), elimination of aged gasoline scooter **and** purchase of electric scooter (`eli_pur`), and elimination of aged gasoline scooter (`eli`); however, MOEA only gives subsidy for new purchase (regardless of whether the consumer recycles a gasoline one).\n",
    "\n",
    "For my research, I intend to look at individual categories, therefore, I have to approximate the number for each type of subsidy for MOEA application data. \n",
    "\n",
    "### September 2012 to July 2015\n",
    "\n",
    "Only MOEA provided subsidy. That is, EPA and local government did not implement subsidy programs at the time. For this period, the number of application for `eli_pur` is half of total application, rounded to integer. As for `pur`, total minus eli_pur. The numbers for `eli` are 0 since no subsidy from MOEA is available for the category."
   ]
  },
  {
   "cell_type": "code",
   "execution_count": 9,
   "metadata": {},
   "outputs": [
    {
     "output_type": "execute_result",
     "data": {
      "text/plain": "         time  type city  epa_app  moea_app  moea_amt\n0  2012-09-01    新購  臺北市      NaN      18.0     10000\n1  2012-09-01  汰舊換新  臺北市      NaN      19.0     10000\n2  2012-09-01    汰舊  臺北市      NaN       0.0     10000\n3  2012-09-01    新購  臺中市      NaN      45.0     10000\n4  2012-09-01  汰舊換新  臺中市      NaN      45.0     10000",
      "text/html": "<div>\n<style scoped>\n    .dataframe tbody tr th:only-of-type {\n        vertical-align: middle;\n    }\n\n    .dataframe tbody tr th {\n        vertical-align: top;\n    }\n\n    .dataframe thead th {\n        text-align: right;\n    }\n</style>\n<table border=\"1\" class=\"dataframe\">\n  <thead>\n    <tr style=\"text-align: right;\">\n      <th></th>\n      <th>time</th>\n      <th>type</th>\n      <th>city</th>\n      <th>epa_app</th>\n      <th>moea_app</th>\n      <th>moea_amt</th>\n    </tr>\n  </thead>\n  <tbody>\n    <tr>\n      <th>0</th>\n      <td>2012-09-01</td>\n      <td>新購</td>\n      <td>臺北市</td>\n      <td>NaN</td>\n      <td>18.0</td>\n      <td>10000</td>\n    </tr>\n    <tr>\n      <th>1</th>\n      <td>2012-09-01</td>\n      <td>汰舊換新</td>\n      <td>臺北市</td>\n      <td>NaN</td>\n      <td>19.0</td>\n      <td>10000</td>\n    </tr>\n    <tr>\n      <th>2</th>\n      <td>2012-09-01</td>\n      <td>汰舊</td>\n      <td>臺北市</td>\n      <td>NaN</td>\n      <td>0.0</td>\n      <td>10000</td>\n    </tr>\n    <tr>\n      <th>3</th>\n      <td>2012-09-01</td>\n      <td>新購</td>\n      <td>臺中市</td>\n      <td>NaN</td>\n      <td>45.0</td>\n      <td>10000</td>\n    </tr>\n    <tr>\n      <th>4</th>\n      <td>2012-09-01</td>\n      <td>汰舊換新</td>\n      <td>臺中市</td>\n      <td>NaN</td>\n      <td>45.0</td>\n      <td>10000</td>\n    </tr>\n  </tbody>\n</table>\n</div>"
     },
     "metadata": {},
     "execution_count": 9
    }
   ],
   "source": [
    "# pur\n",
    "moea['新購'] = (moea['moea_app']*0.5).round().astype('int64')\n",
    "# eli_pur\n",
    "moea['汰舊換新'] = moea['moea_app'] - moea['新購']\n",
    "# eli\n",
    "moea['汰舊'] = 0\n",
    "\n",
    "# pivot or transpose the data from wide form to long form\n",
    "moea_long = pd.melt(moea, \n",
    "                id_vars=['time', 'city'], \n",
    "                value_vars = ['moea_app','新購','汰舊換新','汰舊'], \n",
    "                var_name = 'type', \n",
    "                value_name = 'moea_app')\n",
    "\n",
    "# merge with epa on time, city, and type\n",
    "df = pd.merge(left = epa, \n",
    "              right = moea_long[moea_long['type']!='moea_app'], \n",
    "              on = ['time','city', 'type'], \n",
    "              how = 'outer', \n",
    "              indicator = True)\n",
    "\n",
    "# slice data\n",
    "before = df[df['_merge']=='right_only'].drop(columns=['_merge']).merge(sub[['time','city','moea_amt']], on=['time', 'city'])\n",
    "before.head(5)"
   ]
  },
  {
   "cell_type": "markdown",
   "metadata": {},
   "source": [
    "### After August 2015\n",
    "I first calculated the ratio of `eli_pur` and `pur` from EPA then use the number to approximate the application number of application for MOEA. For example, EPA has 30 `eli_pur`, 70 `pur`, and 12 `eli` applications this month and MOEA has a total of 180 cases for new purchases (regardless of recycle old scooters). The allocation of `eli_pur` is `30/(30+70) = 30%` and `pur` is `70%`. Because MOEA does not subsidise `eli`, the category is not included.\n",
    "\n",
    "1. Create `after`: entries from `df` that are after August 2015. Drop merging indicator and `moea_app` for now.\n",
    "2. Create `epa_ind`: `after` grouped by `time`, `city`, and `type` then count of application count for `eli_pur` and `pur`. \n",
    "3. Create `epa_r`: divide each category (`epa_ind`) by sum (`epa_ind.groupby(['time', 'city']).transform('sum')`). Reset index to be able to read groupby object and rename column name of `epa_app` to `epa_ratio`. \n",
    "4. Create `epa_m`: merge `epa_ind` and `epa_r` on `time`, `city`, and `type` because `eli` was eliminated in step 2 and I need it back.\n"
   ]
  },
  {
   "cell_type": "code",
   "execution_count": 10,
   "metadata": {},
   "outputs": [
    {
     "output_type": "execute_result",
     "data": {
      "text/plain": "         time city  type  epa_app  moea_app  epa_amt  local_amt  moea_amt\n0  2015-08-01  南投縣    新購      0.0       2.0   5000.0     1200.0     10000\n1  2015-08-01  南投縣  汰舊換新      0.0       2.0   8000.0     2100.0     10000\n2  2015-08-01  嘉義市    新購      2.0       7.0   5000.0     5000.0     10000\n3  2015-08-01  嘉義市  汰舊換新      0.0       7.0   8000.0     6000.0     10000\n4  2015-08-01  嘉義縣    新購      0.0       2.0   5000.0        0.0     10000",
      "text/html": "<div>\n<style scoped>\n    .dataframe tbody tr th:only-of-type {\n        vertical-align: middle;\n    }\n\n    .dataframe tbody tr th {\n        vertical-align: top;\n    }\n\n    .dataframe thead th {\n        text-align: right;\n    }\n</style>\n<table border=\"1\" class=\"dataframe\">\n  <thead>\n    <tr style=\"text-align: right;\">\n      <th></th>\n      <th>time</th>\n      <th>city</th>\n      <th>type</th>\n      <th>epa_app</th>\n      <th>moea_app</th>\n      <th>epa_amt</th>\n      <th>local_amt</th>\n      <th>moea_amt</th>\n    </tr>\n  </thead>\n  <tbody>\n    <tr>\n      <th>0</th>\n      <td>2015-08-01</td>\n      <td>南投縣</td>\n      <td>新購</td>\n      <td>0.0</td>\n      <td>2.0</td>\n      <td>5000.0</td>\n      <td>1200.0</td>\n      <td>10000</td>\n    </tr>\n    <tr>\n      <th>1</th>\n      <td>2015-08-01</td>\n      <td>南投縣</td>\n      <td>汰舊換新</td>\n      <td>0.0</td>\n      <td>2.0</td>\n      <td>8000.0</td>\n      <td>2100.0</td>\n      <td>10000</td>\n    </tr>\n    <tr>\n      <th>2</th>\n      <td>2015-08-01</td>\n      <td>嘉義市</td>\n      <td>新購</td>\n      <td>2.0</td>\n      <td>7.0</td>\n      <td>5000.0</td>\n      <td>5000.0</td>\n      <td>10000</td>\n    </tr>\n    <tr>\n      <th>3</th>\n      <td>2015-08-01</td>\n      <td>嘉義市</td>\n      <td>汰舊換新</td>\n      <td>0.0</td>\n      <td>7.0</td>\n      <td>8000.0</td>\n      <td>6000.0</td>\n      <td>10000</td>\n    </tr>\n    <tr>\n      <th>4</th>\n      <td>2015-08-01</td>\n      <td>嘉義縣</td>\n      <td>新購</td>\n      <td>0.0</td>\n      <td>2.0</td>\n      <td>5000.0</td>\n      <td>0.0</td>\n      <td>10000</td>\n    </tr>\n  </tbody>\n</table>\n</div>"
     },
     "metadata": {},
     "execution_count": 10
    }
   ],
   "source": [
    "# Create after for entries from df that are after August 2015. Drop merging indicator and moea_app for now\n",
    "after = df[df['_merge']!='right_only'].drop(columns = ['moea_app','_merge'])\n",
    "\n",
    "# Grouped after by time, city, and type with the count of application count for eli_pur and pur\n",
    "epa_ind = after[after['type'] != '汰舊'].groupby(by = ['time', 'city', 'type'])['epa_app'].sum()\n",
    "\n",
    "# Divide each category (epa_ind) by sum, reset index to be able to read groupby object and rename column name of epa_app to epa_ratio\n",
    "epa_r = epa_ind.div(epa_ind.groupby(['time', 'city']).transform('sum')).reset_index().rename(columns = {'epa_app':'epa_ratio'})\n",
    "\n",
    "# merge epa_ind and epa_r on time, city, and type to get both count and ratio\n",
    "epa_m = pd.merge(left = epa_ind, right=epa_r, on=['time','city','type'], how='outer')\n",
    "#epa_m['epa_ratio'] = epa_m['epa_ratio'].fillna(0)\n",
    "\n",
    "# merge to obtain moea application count\n",
    "after = epa_m.merge(moea[['city','time','moea_app']], how='left', on=['time','city'], indicator=True)\n",
    "\n",
    "# multiply ratio with application count\n",
    "after['moea_app_alloc'] = (after['epa_ratio'] * after['moea_app']).round()\n",
    "after.loc[(after['moea_app_alloc'] > 0), 'moea_app'] = after['moea_app_alloc']\n",
    "after = after.drop(columns=['_merge','epa_ratio','moea_app_alloc']).merge(sub, on=['time','city','type'])\n",
    "after.head(5)"
   ]
  },
  {
   "cell_type": "markdown",
   "metadata": {},
   "source": [
    "### Combine Before & After"
   ]
  },
  {
   "cell_type": "code",
   "execution_count": 11,
   "metadata": {},
   "outputs": [
    {
     "output_type": "execute_result",
     "data": {
      "text/plain": "         time  type city  epa_app  moea_app  moea_amt  epa_amt  local_amt\n0  2012-09-01    新購  臺北市      NaN      18.0     10000      NaN        NaN\n1  2012-09-01  汰舊換新  臺北市      NaN      19.0     10000      NaN        NaN\n2  2012-09-01    汰舊  臺北市      NaN       0.0     10000      NaN        NaN\n3  2012-09-01    新購  臺中市      NaN      45.0     10000      NaN        NaN\n4  2012-09-01  汰舊換新  臺中市      NaN      45.0     10000      NaN        NaN",
      "text/html": "<div>\n<style scoped>\n    .dataframe tbody tr th:only-of-type {\n        vertical-align: middle;\n    }\n\n    .dataframe tbody tr th {\n        vertical-align: top;\n    }\n\n    .dataframe thead th {\n        text-align: right;\n    }\n</style>\n<table border=\"1\" class=\"dataframe\">\n  <thead>\n    <tr style=\"text-align: right;\">\n      <th></th>\n      <th>time</th>\n      <th>type</th>\n      <th>city</th>\n      <th>epa_app</th>\n      <th>moea_app</th>\n      <th>moea_amt</th>\n      <th>epa_amt</th>\n      <th>local_amt</th>\n    </tr>\n  </thead>\n  <tbody>\n    <tr>\n      <th>0</th>\n      <td>2012-09-01</td>\n      <td>新購</td>\n      <td>臺北市</td>\n      <td>NaN</td>\n      <td>18.0</td>\n      <td>10000</td>\n      <td>NaN</td>\n      <td>NaN</td>\n    </tr>\n    <tr>\n      <th>1</th>\n      <td>2012-09-01</td>\n      <td>汰舊換新</td>\n      <td>臺北市</td>\n      <td>NaN</td>\n      <td>19.0</td>\n      <td>10000</td>\n      <td>NaN</td>\n      <td>NaN</td>\n    </tr>\n    <tr>\n      <th>2</th>\n      <td>2012-09-01</td>\n      <td>汰舊</td>\n      <td>臺北市</td>\n      <td>NaN</td>\n      <td>0.0</td>\n      <td>10000</td>\n      <td>NaN</td>\n      <td>NaN</td>\n    </tr>\n    <tr>\n      <th>3</th>\n      <td>2012-09-01</td>\n      <td>新購</td>\n      <td>臺中市</td>\n      <td>NaN</td>\n      <td>45.0</td>\n      <td>10000</td>\n      <td>NaN</td>\n      <td>NaN</td>\n    </tr>\n    <tr>\n      <th>4</th>\n      <td>2012-09-01</td>\n      <td>汰舊換新</td>\n      <td>臺中市</td>\n      <td>NaN</td>\n      <td>45.0</td>\n      <td>10000</td>\n      <td>NaN</td>\n      <td>NaN</td>\n    </tr>\n  </tbody>\n</table>\n</div>"
     },
     "metadata": {},
     "execution_count": 11
    }
   ],
   "source": [
    "data = before.append(after).reset_index().drop(columns='index') "
   ]
  },
  {
   "cell_type": "markdown",
   "metadata": {},
   "source": [
    "## Translate Data\n",
    "`type` and `city` consist of information in Mandarin. As some libraries do not recognise or display the characters, I am translating these two columns into English. For `city`, use the `city_name.txt` collected earlier from wikipedia. As for `type`, manually input the translation."
   ]
  },
  {
   "cell_type": "code",
   "execution_count": 17,
   "metadata": {},
   "outputs": [],
   "source": [
    "city_name = {}\n",
    "\n",
    "with open('output/city_name.txt', 'r') as f:\n",
    "    for line in f:\n",
    "        line = line.strip().split(',')\n",
    "        city_name.update({line[0]:line[1]})\n",
    "\n",
    "data = data.replace(city_name).replace({'新購':'New Purchase', '汰舊':'Elimination', '汰舊換新':'Elimination and Purchase'})"
   ]
  },
  {
   "cell_type": "code",
   "execution_count": 18,
   "metadata": {},
   "outputs": [
    {
     "output_type": "execute_result",
     "data": {
      "text/plain": "         time                      type           city  epa_app  moea_app  \\\n0  2012-09-01              New Purchase    Taipei City      NaN      18.0   \n1  2012-09-01  Elimination and Purchase    Taipei City      NaN      19.0   \n2  2012-09-01               Elimination    Taipei City      NaN       0.0   \n3  2012-09-01              New Purchase  Taichung City      NaN      45.0   \n4  2012-09-01  Elimination and Purchase  Taichung City      NaN      45.0   \n\n   moea_amt  epa_amt  local_amt  \n0     10000      NaN        NaN  \n1     10000      NaN        NaN  \n2     10000      NaN        NaN  \n3     10000      NaN        NaN  \n4     10000      NaN        NaN  ",
      "text/html": "<div>\n<style scoped>\n    .dataframe tbody tr th:only-of-type {\n        vertical-align: middle;\n    }\n\n    .dataframe tbody tr th {\n        vertical-align: top;\n    }\n\n    .dataframe thead th {\n        text-align: right;\n    }\n</style>\n<table border=\"1\" class=\"dataframe\">\n  <thead>\n    <tr style=\"text-align: right;\">\n      <th></th>\n      <th>time</th>\n      <th>type</th>\n      <th>city</th>\n      <th>epa_app</th>\n      <th>moea_app</th>\n      <th>moea_amt</th>\n      <th>epa_amt</th>\n      <th>local_amt</th>\n    </tr>\n  </thead>\n  <tbody>\n    <tr>\n      <th>0</th>\n      <td>2012-09-01</td>\n      <td>New Purchase</td>\n      <td>Taipei City</td>\n      <td>NaN</td>\n      <td>18.0</td>\n      <td>10000</td>\n      <td>NaN</td>\n      <td>NaN</td>\n    </tr>\n    <tr>\n      <th>1</th>\n      <td>2012-09-01</td>\n      <td>Elimination and Purchase</td>\n      <td>Taipei City</td>\n      <td>NaN</td>\n      <td>19.0</td>\n      <td>10000</td>\n      <td>NaN</td>\n      <td>NaN</td>\n    </tr>\n    <tr>\n      <th>2</th>\n      <td>2012-09-01</td>\n      <td>Elimination</td>\n      <td>Taipei City</td>\n      <td>NaN</td>\n      <td>0.0</td>\n      <td>10000</td>\n      <td>NaN</td>\n      <td>NaN</td>\n    </tr>\n    <tr>\n      <th>3</th>\n      <td>2012-09-01</td>\n      <td>New Purchase</td>\n      <td>Taichung City</td>\n      <td>NaN</td>\n      <td>45.0</td>\n      <td>10000</td>\n      <td>NaN</td>\n      <td>NaN</td>\n    </tr>\n    <tr>\n      <th>4</th>\n      <td>2012-09-01</td>\n      <td>Elimination and Purchase</td>\n      <td>Taichung City</td>\n      <td>NaN</td>\n      <td>45.0</td>\n      <td>10000</td>\n      <td>NaN</td>\n      <td>NaN</td>\n    </tr>\n  </tbody>\n</table>\n</div>"
     },
     "metadata": {},
     "execution_count": 18
    }
   ],
   "source": [
    "data.head(5)"
   ]
  },
  {
   "cell_type": "code",
   "execution_count": null,
   "metadata": {},
   "outputs": [],
   "source": []
  }
 ]
}